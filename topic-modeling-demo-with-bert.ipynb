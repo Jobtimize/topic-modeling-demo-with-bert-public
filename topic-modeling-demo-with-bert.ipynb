{
 "cells": [
  {
   "cell_type": "markdown",
   "id": "5d8f5303",
   "metadata": {},
   "source": [
    "Welcome to this tutorial! \n",
    "\n",
    "Please install the requirements, fetch the data, and train the model to begin. \n",
    "Thereafter, questions are listed that can be answered using the trained BERTopic model. Explore the BERTopic functionalities to be able to answer the questions. \n",
    "\n",
    "Note: Visualization of the BERTopic library are not working in Jupyter Lab. Please use Jupyter Notebook for this. "
   ]
  },
  {
   "cell_type": "markdown",
   "id": "bf28bf8a",
   "metadata": {},
   "source": [
    "### Install requirements"
   ]
  },
  {
   "cell_type": "code",
   "execution_count": null,
   "id": "ca8ca285",
   "metadata": {},
   "outputs": [],
   "source": [
    "!pip install -r requirements-core.txt --user"
   ]
  },
  {
   "cell_type": "markdown",
   "id": "d30f2325",
   "metadata": {},
   "source": [
    "### Imports etc."
   ]
  },
  {
   "cell_type": "code",
   "execution_count": null,
   "id": "3574d381",
   "metadata": {},
   "outputs": [],
   "source": [
    "# NOTE: After properly installing the requirements you might have\n",
    "# to restart your kernel to be able to make the imports.\n",
    "from sklearn.datasets import fetch_20newsgroups\n",
    "from bertopic import BERTopic\n",
    "import plotly.offline as pyo\n",
    "import plotly.graph_objs as go\n",
    "pyo.init_notebook_mode()"
   ]
  },
  {
   "cell_type": "markdown",
   "id": "b0ce6a94",
   "metadata": {},
   "source": [
    "### Fetch and checkout data"
   ]
  },
  {
   "cell_type": "code",
   "execution_count": null,
   "id": "2a54e541",
   "metadata": {},
   "outputs": [],
   "source": [
    "newsgroups_train = fetch_20newsgroups(subset='train')"
   ]
  },
  {
   "cell_type": "code",
   "execution_count": null,
   "id": "2f7e03ab",
   "metadata": {},
   "outputs": [],
   "source": [
    "data = newsgroups_train.data"
   ]
  },
  {
   "cell_type": "code",
   "execution_count": null,
   "id": "30da2979",
   "metadata": {},
   "outputs": [],
   "source": [
    "type(data)"
   ]
  },
  {
   "cell_type": "code",
   "execution_count": null,
   "id": "306322f0",
   "metadata": {},
   "outputs": [],
   "source": [
    "len(data)"
   ]
  },
  {
   "cell_type": "code",
   "execution_count": null,
   "id": "2aea6e9e",
   "metadata": {},
   "outputs": [],
   "source": [
    "# we will take only the first X number of document, to speed up the computation\n",
    "# please be aware that this will create worse topics. \n",
    "# normally, you would like to use as much data as possible.\n",
    "data = data[:1000]"
   ]
  },
  {
   "cell_type": "code",
   "execution_count": null,
   "id": "ec0c0021",
   "metadata": {},
   "outputs": [],
   "source": [
    "# example\n",
    "print(data[0])"
   ]
  },
  {
   "cell_type": "markdown",
   "id": "2952c62b",
   "metadata": {},
   "source": [
    "### BERT time!"
   ]
  },
  {
   "cell_type": "markdown",
   "id": "a14a5444",
   "metadata": {},
   "source": [
    "Link to the documentation of the BERTopic API: \n",
    "\n",
    "https://maartengr.github.io/BERTopic/api/bertopic.html"
   ]
  },
  {
   "cell_type": "code",
   "execution_count": null,
   "id": "159d3e6d",
   "metadata": {},
   "outputs": [],
   "source": [
    "# initialize the model\n",
    "model = BERTopic(language='english')"
   ]
  },
  {
   "cell_type": "code",
   "execution_count": null,
   "id": "66a27311",
   "metadata": {},
   "outputs": [],
   "source": [
    "# fit the model on the documents\n",
    "# on 1000 entries this should only take 1-2 minutes\n",
    "topics, probs = model.fit_transform(data)"
   ]
  },
  {
   "cell_type": "code",
   "execution_count": null,
   "id": "efbb9223",
   "metadata": {
    "tags": []
   },
   "outputs": [],
   "source": [
    "# topics: a list of integers that show to which topic each document is assigned. \n",
    "topics"
   ]
  },
  {
   "cell_type": "code",
   "execution_count": null,
   "id": "9a9f101f",
   "metadata": {},
   "outputs": [],
   "source": [
    "len(topics), len(data)"
   ]
  },
  {
   "cell_type": "code",
   "execution_count": null,
   "id": "d6d905c2",
   "metadata": {},
   "outputs": [],
   "source": [
    "# TODO: Checkout the results to be able to answer the following questions:"
   ]
  },
  {
   "cell_type": "markdown",
   "id": "48625233",
   "metadata": {},
   "source": [
    "#### Q1: How many topics has the model identified? "
   ]
  },
  {
   "cell_type": "code",
   "execution_count": null,
   "id": "a4ea8ce1-a399-4f95-91c7-430c1df52996",
   "metadata": {},
   "outputs": [],
   "source": [
    "# for Q1, 2, and 3\n",
    "model.get_topic_info()"
   ]
  },
  {
   "cell_type": "markdown",
   "id": "3144a8de",
   "metadata": {},
   "source": [
    "#### Q2: How many documents are assigned to each topic? "
   ]
  },
  {
   "cell_type": "code",
   "execution_count": null,
   "id": "62443909-4339-4dfd-8397-55425a6b6535",
   "metadata": {},
   "outputs": [],
   "source": []
  },
  {
   "cell_type": "markdown",
   "id": "02ecc91c",
   "metadata": {},
   "source": [
    "#### Q3: What are the names of the topics? "
   ]
  },
  {
   "cell_type": "code",
   "execution_count": null,
   "id": "04b60044-9af9-441a-9875-4aaba6dc07a5",
   "metadata": {},
   "outputs": [],
   "source": []
  },
  {
   "cell_type": "markdown",
   "id": "c2e205b2",
   "metadata": {},
   "source": [
    "#### Q4: Can you get the top 3 most representative topics for a topic of your choice? "
   ]
  },
  {
   "cell_type": "code",
   "execution_count": null,
   "id": "8063b68f-6f4c-451c-b7fd-b643a5f3b8da",
   "metadata": {},
   "outputs": [],
   "source": [
    "# plug in any topic id in the function\n",
    "for doc in model.get_representative_docs(0):\n",
    "    print('#################')\n",
    "    print(doc)"
   ]
  },
  {
   "cell_type": "markdown",
   "id": "11a1abb3",
   "metadata": {},
   "source": [
    "#### Q5: Which visualizations can you make to give more detailed insights in the topics? "
   ]
  },
  {
   "cell_type": "code",
   "execution_count": null,
   "id": "b9586b0b-8ffb-4f20-9261-2df6b8d93223",
   "metadata": {},
   "outputs": [],
   "source": [
    "# any function from the 'BERTopic' object with 'visualize' in it"
   ]
  },
  {
   "cell_type": "code",
   "execution_count": null,
   "id": "bb36a74c-bf58-4632-82a6-02189296e41d",
   "metadata": {},
   "outputs": [],
   "source": [
    "# only works on large datasets (few thousands)\n",
    "model.visualize_topics()"
   ]
  },
  {
   "cell_type": "code",
   "execution_count": null,
   "id": "0967242a-bf96-4169-8914-5082ec1250c2",
   "metadata": {},
   "outputs": [],
   "source": [
    "model.visualize_heatmap()"
   ]
  },
  {
   "cell_type": "code",
   "execution_count": null,
   "id": "5a11db2d-e7af-4dd9-aaa5-423b407a0e3a",
   "metadata": {},
   "outputs": [],
   "source": [
    "model.visualize_hierarchy()"
   ]
  },
  {
   "cell_type": "markdown",
   "id": "1f46603a",
   "metadata": {},
   "source": [
    "#### Q6: Can you find topics that match certain keywords? "
   ]
  },
  {
   "cell_type": "code",
   "execution_count": null,
   "id": "7849634c-54fd-4793-b773-852aa0bf4f20",
   "metadata": {},
   "outputs": [],
   "source": [
    "keyword = \"article\"\n",
    "similar_topics, similarity = model.find_topics(keyword, top_n=5)\n",
    "model.get_topic(similar_topics[0])"
   ]
  },
  {
   "cell_type": "markdown",
   "id": "2122e857",
   "metadata": {},
   "source": [
    "#### Q7: Can you reduce the number of topics to create more generalized representations? "
   ]
  },
  {
   "cell_type": "code",
   "execution_count": null,
   "id": "5f7f356d-dc88-4815-9b42-0f791cb50589",
   "metadata": {
    "tags": []
   },
   "outputs": [],
   "source": [
    "# create new list of topic assignments and update 'model' object. \n",
    "new_topics, new_probs = model.reduce_topics(data, topics, probabilities=probs, nr_topics='auto')\n",
    "new_topics"
   ]
  },
  {
   "cell_type": "markdown",
   "id": "bf99aea8",
   "metadata": {},
   "source": [
    "#### Q8: Can you update the topic representations? "
   ]
  },
  {
   "cell_type": "code",
   "execution_count": null,
   "id": "8b75809c-0f2a-4781-ac74-43a6318e7499",
   "metadata": {},
   "outputs": [],
   "source": [
    "# add n grams to topic representations\n",
    "model.update_topics(data, topics, n_gram_range=(1, 3))\n",
    "model.get_topic(0)[:10]"
   ]
  },
  {
   "cell_type": "code",
   "execution_count": null,
   "id": "b59e0988-7c71-4d17-b513-80f264b9e0b0",
   "metadata": {},
   "outputs": [],
   "source": [
    "# remove stopwords\n",
    "from sklearn.feature_extraction.text import CountVectorizer\n",
    "vectorizer_model = CountVectorizer(stop_words=\"english\", ngram_range=(1, 3))\n",
    "model.update_topics(data, topics, vectorizer_model=vectorizer_model)\n",
    "model.get_topic(0)[:10]"
   ]
  },
  {
   "cell_type": "code",
   "execution_count": null,
   "id": "1e06a5a1-0144-41f4-873b-5048194514cf",
   "metadata": {},
   "outputs": [],
   "source": [
    "model.get_topic_info()"
   ]
  }
 ],
 "metadata": {
  "kernelspec": {
   "display_name": "venv",
   "language": "python",
   "name": "venv"
  },
  "language_info": {
   "codemirror_mode": {
    "name": "ipython",
    "version": 3
   },
   "file_extension": ".py",
   "mimetype": "text/x-python",
   "name": "python",
   "nbconvert_exporter": "python",
   "pygments_lexer": "ipython3",
   "version": "3.8.8"
  }
 },
 "nbformat": 4,
 "nbformat_minor": 5
}
