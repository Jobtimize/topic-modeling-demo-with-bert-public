{
 "cells": [
  {
   "cell_type": "markdown",
   "id": "5d8f5303",
   "metadata": {},
   "source": [
    "Welcome to this tutorial! \n",
    "\n",
    "Please install the requirements and fetch the data to begin.\n",
    "The modeling is all on you. \n",
    "\n",
    "Hints are given in the comments starting with '# TODO:'\n",
    "\n",
    "Note: Visualization of the BERTopic library are not working in Jupyter Lab. Please use Jupyter Notebook for this. "
   ]
  },
  {
   "cell_type": "markdown",
   "id": "bf28bf8a",
   "metadata": {},
   "source": [
    "### Install requirements"
   ]
  },
  {
   "cell_type": "code",
   "execution_count": null,
   "id": "ca8ca285",
   "metadata": {},
   "outputs": [],
   "source": [
    "!pip install -r requirements.txt"
   ]
  },
  {
   "cell_type": "markdown",
   "id": "d30f2325",
   "metadata": {},
   "source": [
    "### Imports etc."
   ]
  },
  {
   "cell_type": "code",
   "execution_count": null,
   "id": "3574d381",
   "metadata": {},
   "outputs": [],
   "source": [
    "from sklearn.datasets import fetch_20newsgroups\n",
    "from bertopic import BERTopic\n",
    "import plotly.offline as pyo\n",
    "import plotly.graph_objs as go\n",
    "pyo.init_notebook_mode()"
   ]
  },
  {
   "cell_type": "markdown",
   "id": "b0ce6a94",
   "metadata": {},
   "source": [
    "### Fetch and checkout data"
   ]
  },
  {
   "cell_type": "code",
   "execution_count": null,
   "id": "2a54e541",
   "metadata": {},
   "outputs": [],
   "source": [
    "newsgroups_train = fetch_20newsgroups(subset='train')"
   ]
  },
  {
   "cell_type": "code",
   "execution_count": null,
   "id": "2f7e03ab",
   "metadata": {},
   "outputs": [],
   "source": [
    "data = newsgroups_train.data"
   ]
  },
  {
   "cell_type": "code",
   "execution_count": null,
   "id": "30da2979",
   "metadata": {},
   "outputs": [],
   "source": [
    "type(data)"
   ]
  },
  {
   "cell_type": "code",
   "execution_count": null,
   "id": "306322f0",
   "metadata": {},
   "outputs": [],
   "source": [
    "len(data)"
   ]
  },
  {
   "cell_type": "code",
   "execution_count": null,
   "id": "ec0c0021",
   "metadata": {},
   "outputs": [],
   "source": [
    "# example\n",
    "data[0]"
   ]
  },
  {
   "cell_type": "code",
   "execution_count": null,
   "id": "93c67b0a",
   "metadata": {},
   "outputs": [],
   "source": [
    "# TODO: Optionally: reduce the number of documents to reduce training time"
   ]
  },
  {
   "cell_type": "markdown",
   "id": "2952c62b",
   "metadata": {},
   "source": [
    "### BERT time!"
   ]
  },
  {
   "cell_type": "markdown",
   "id": "a14a5444",
   "metadata": {},
   "source": [
    "Link to the documentation of the BERTopic API: \n",
    "\n",
    "https://maartengr.github.io/BERTopic/api/bertopic.html"
   ]
  },
  {
   "cell_type": "code",
   "execution_count": null,
   "id": "159d3e6d",
   "metadata": {},
   "outputs": [],
   "source": [
    "# TODO: Initialize the model with the right parameters. "
   ]
  },
  {
   "cell_type": "code",
   "execution_count": null,
   "id": "66a27311",
   "metadata": {},
   "outputs": [],
   "source": [
    "# TODO: Fit the model on the documents."
   ]
  },
  {
   "cell_type": "code",
   "execution_count": null,
   "id": "d6d905c2",
   "metadata": {},
   "outputs": [],
   "source": [
    "# TODO: Checkout the results to be able to answer the following questions:"
   ]
  },
  {
   "cell_type": "markdown",
   "id": "48625233",
   "metadata": {},
   "source": [
    "#### Q1: How many topics has the model identified? "
   ]
  },
  {
   "cell_type": "markdown",
   "id": "a7626b45",
   "metadata": {},
   "source": []
  },
  {
   "cell_type": "markdown",
   "id": "3144a8de",
   "metadata": {},
   "source": [
    "#### Q2: How many documents are assigned to each topic? "
   ]
  },
  {
   "cell_type": "markdown",
   "id": "7020d89f",
   "metadata": {},
   "source": []
  },
  {
   "cell_type": "markdown",
   "id": "02ecc91c",
   "metadata": {},
   "source": [
    "#### Q3: What are the names of the topics? "
   ]
  },
  {
   "cell_type": "markdown",
   "id": "79f03b58",
   "metadata": {},
   "source": []
  },
  {
   "cell_type": "markdown",
   "id": "c2e205b2",
   "metadata": {},
   "source": [
    "#### Q4: Can you get the top 3 most representative topics for a topic of your choice? "
   ]
  },
  {
   "cell_type": "markdown",
   "id": "6eb1934b",
   "metadata": {},
   "source": []
  },
  {
   "cell_type": "markdown",
   "id": "11a1abb3",
   "metadata": {},
   "source": [
    "#### Q5: Which visualizations can you make to give more detailed insights in the topics? "
   ]
  },
  {
   "cell_type": "markdown",
   "id": "c681b9a6",
   "metadata": {},
   "source": []
  },
  {
   "cell_type": "markdown",
   "id": "1f46603a",
   "metadata": {},
   "source": [
    "#### Q6: Can you find topics that match certain keywords? "
   ]
  },
  {
   "cell_type": "markdown",
   "id": "afb2db78",
   "metadata": {},
   "source": []
  },
  {
   "cell_type": "markdown",
   "id": "2122e857",
   "metadata": {},
   "source": [
    "#### Q7: Can you reduce the number of topics to create more generalized representations? "
   ]
  },
  {
   "cell_type": "markdown",
   "id": "d6b387d8",
   "metadata": {},
   "source": []
  },
  {
   "cell_type": "markdown",
   "id": "bf99aea8",
   "metadata": {},
   "source": [
    "#### Q8: Can you update the topic representations? "
   ]
  },
  {
   "cell_type": "markdown",
   "id": "d6e7eeba",
   "metadata": {},
   "source": []
  }
 ],
 "metadata": {
  "kernelspec": {
   "display_name": "venv",
   "language": "python",
   "name": "venv"
  },
  "language_info": {
   "codemirror_mode": {
    "name": "ipython",
    "version": 3
   },
   "file_extension": ".py",
   "mimetype": "text/x-python",
   "name": "python",
   "nbconvert_exporter": "python",
   "pygments_lexer": "ipython3",
   "version": "3.8.8"
  }
 },
 "nbformat": 4,
 "nbformat_minor": 5
}
